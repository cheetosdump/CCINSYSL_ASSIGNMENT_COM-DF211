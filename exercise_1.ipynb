{
  "cells": [
    {
      "cell_type": "markdown",
      "metadata": {
        "id": "view-in-github",
        "colab_type": "text"
      },
      "source": [
        "<a href=\"https://colab.research.google.com/github/cheetosdump/CCINSYSL_ASSIGNMENT_COM-DF211/blob/main/exercise_1.ipynb\" target=\"_parent\"><img src=\"https://colab.research.google.com/assets/colab-badge.svg\" alt=\"Open In Colab\"/></a>"
      ]
    },
    {
      "cell_type": "markdown",
      "metadata": {
        "id": "GBxi4CrfzeYk"
      },
      "source": [
        "# Exercise 1\n",
        "\n",
        "Learning through data"
      ]
    },
    {
      "cell_type": "markdown",
      "metadata": {
        "id": "TGoRtGThzeYm"
      },
      "source": [
        "1. Find the function **f(x)**  \n",
        "\n",
        "| Input  | CAT | DOG | APPLE | BANANA | ORANGE |  \n",
        "| --- | --- | --- | --- | --- | --- |\n",
        "| Output | cat | dog | apple | banana | orange\n"
      ]
    },
    {
      "cell_type": "code",
      "execution_count": null,
      "metadata": {
        "id": "qVeYW_ypzeYn",
        "colab": {
          "base_uri": "https://localhost:8080/"
        },
        "outputId": "000bfa6e-97d8-4319-ff05-172eee59f4b5"
      },
      "outputs": [
        {
          "output_type": "stream",
          "name": "stdout",
          "text": [
            "cat, dog, apple, banana, orange\n"
          ]
        }
      ],
      "source": [
        "def function(input):\n",
        "  print(input.lower())\n",
        "function(\"CAT, DOG, APPLE, BANANA, ORANGE\")"
      ]
    },
    {
      "cell_type": "markdown",
      "metadata": {
        "id": "ljHhD6M1zeYn"
      },
      "source": [
        "2. Find the function **f(x)**  \n",
        "\n",
        "| Input  | CAT | DOG | APPLE | BANANA | ORANGE |  \n",
        "| --- | --- | --- | --- | --- | --- |\n",
        "| Output | CT | DG | PPL | BNN | RNG\n"
      ]
    },
    {
      "cell_type": "code",
      "execution_count": null,
      "metadata": {
        "id": "O1IYoTnrzeYo",
        "colab": {
          "base_uri": "https://localhost:8080/"
        },
        "outputId": "fbaa97e2-d247-4e89-89a9-8abe8ae181c9"
      },
      "outputs": [
        {
          "output_type": "stream",
          "name": "stdout",
          "text": [
            "CT, DG, PPL, BNN, RNG\n"
          ]
        }
      ],
      "source": [
        "def rem_vowel(input):\n",
        "    vowels = ['a','e','i','o','u']\n",
        "    result = [letter for letter in input if letter.lower() not in vowels]\n",
        "    result = ''.join(result)\n",
        "    print(result)\n",
        "\n",
        "input = \"CAT, DOG, APPLE, BANANA, ORANGE\"\n",
        "rem_vowel(input)"
      ]
    },
    {
      "cell_type": "markdown",
      "metadata": {
        "id": "jRfDgREezeYo"
      },
      "source": [
        "3. Find the function **f(x)**  \n",
        "\n",
        "| Input  | CAT | DOG | APPLE | BANANA | ORANGE |  \n",
        "| --- | --- | --- | --- | --- | --- |\n",
        "| Output | TAC | GOD | ELPPA | ANANAB | EGNARO\n"
      ]
    },
    {
      "cell_type": "code",
      "execution_count": null,
      "metadata": {
        "id": "xplN1Wi9zeYp",
        "colab": {
          "base_uri": "https://localhost:8080/",
          "height": 35
        },
        "outputId": "d507d09f-2b45-4b3b-996b-67e5ba0f6d62"
      },
      "outputs": [
        {
          "output_type": "execute_result",
          "data": {
            "text/plain": [
              "'EGNARO ,ANANAB ,ELPPA ,GOD ,TAC'"
            ],
            "application/vnd.google.colaboratory.intrinsic+json": {
              "type": "string"
            }
          },
          "metadata": {},
          "execution_count": 33
        }
      ],
      "source": [
        "def input(x):\n",
        "  return x[::-1]\n",
        "\n",
        "input(\"ORANGE\")"
      ]
    },
    {
      "cell_type": "markdown",
      "metadata": {
        "id": "k4JMcMspzeYp"
      },
      "source": [
        "4. Find the function **f(x)**  \n",
        "\n",
        "| Input  | 2 | 3 | 4 | 5 | 6 |  \n",
        "| --- | --- | --- | --- | --- | --- |\n",
        "| Output | 4 | 9 | 16 | 25 | 36\n"
      ]
    },
    {
      "cell_type": "code",
      "execution_count": null,
      "metadata": {
        "id": "dZrQ2PYVzeYp",
        "colab": {
          "base_uri": "https://localhost:8080/"
        },
        "outputId": "5acd2557-660b-4034-87d6-1dc6372f99c1"
      },
      "outputs": [
        {
          "output_type": "stream",
          "name": "stdout",
          "text": [
            "[4, 9, 16, 25, 36]\n"
          ]
        }
      ],
      "source": [
        "input = [2,3,4,5,6]\n",
        "result = [number ** 2 for number in input]\n",
        "print(result)"
      ]
    },
    {
      "cell_type": "markdown",
      "metadata": {
        "id": "6DonFwqSzeYq"
      },
      "source": [
        "5. Find the function **f(x)**  \n",
        "\n",
        "| Input  | 64 | 27 | 1000 | 729 | 512 |  \n",
        "| --- | --- | --- | --- | --- | --- |\n",
        "| Output | 4 | 3 | 10 | 9 | 8"
      ]
    },
    {
      "cell_type": "code",
      "execution_count": null,
      "metadata": {
        "id": "EgBiiHMozeYq",
        "colab": {
          "base_uri": "https://localhost:8080/"
        },
        "outputId": "0adba493-f16d-408f-a950-2a1dfe3dae32"
      },
      "outputs": [
        {
          "output_type": "stream",
          "name": "stdout",
          "text": [
            "10\n"
          ]
        }
      ],
      "source": [
        "input = 1000\n",
        "cube_root = input ** (1/3)\n",
        "print(round(cube_root))"
      ]
    }
  ],
  "metadata": {
    "kernelspec": {
      "display_name": "myenvironment",
      "language": "python",
      "name": "python3"
    },
    "language_info": {
      "codemirror_mode": {
        "name": "ipython",
        "version": 3
      },
      "file_extension": ".py",
      "mimetype": "text/x-python",
      "name": "python",
      "nbconvert_exporter": "python",
      "pygments_lexer": "ipython3",
      "version": "3.9.17"
    },
    "orig_nbformat": 4,
    "colab": {
      "provenance": [],
      "include_colab_link": true
    }
  },
  "nbformat": 4,
  "nbformat_minor": 0
}